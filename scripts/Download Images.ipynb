{
 "cells": [
  {
   "cell_type": "markdown",
   "metadata": {},
   "source": [
    "-Download Shapefile of the Sector Boundary of the country selected.                      \n",
    "-This acts as a boundry input to the Google Static maps API."
   ]
  },
  {
   "cell_type": "code",
   "execution_count": null,
   "metadata": {},
   "outputs": [],
   "source": [
    "def get_shp_extent(shp_file):\n",
    "    print(\"shp_file_ext\")\n",
    "    inDriver = ogr.GetDriverByName(\"ESRI Shapefile\")\n",
    "    inDataSource = inDriver.Open(inShapefile, 0)\n",
    "    inLayer = inDataSource.GetLayer()\n",
    "    extent = inLayer.GetExtent()\n",
    "    # x_min_shp, x_max_shp, y_min_shp, y_max_shp = extent\n",
    "    return extent"
   ]
  },
  {
   "cell_type": "code",
   "execution_count": null,
   "metadata": {},
   "outputs": [],
   "source": [
    "from retrying import retry\n",
    "import urllib.request\n",
    "import matplotlib.pyplot as plt\n",
    "\n",
    "@retry(wait_exponential_multiplier=1000, wait_exponential_max=3600000)\n",
    "def save_img(url, file_path, file_name):\n",
    "    image = plt.imread(url)\n",
    "    if np.array_equal(image[:,:10,:],image[:,10:20,:]):\n",
    "        print(\"=======\")\n",
    "        pass\n",
    "    else:\n",
    "        print('---')\n",
    "        plt.imsave(file_path + file_name, image[50:450, :, :])\n",
    "\n",
    "inShapefile = \"data/shp/Sector_Boundary_2012/Sector_Boundary_2012.shp\"\n",
    "x_min_shp, x_max_shp, y_min_shp, y_max_shp = get_shp_extent(inShapefile)\n",
    "\n",
    "left_idx, top_idx = get_cell_idx(x_min_shp, y_max_shp, top_left_x_coords, top_left_y_coords)\n",
    "right_idx, bottom_idx = get_cell_idx(x_max_shp, y_min_shp, top_left_x_coords, top_left_y_coords)\n",
    "\n",
    "key = ''#enter the API key here \n",
    "m = 1\n",
    "for i in range(left_idx, right_idx + 1):\n",
    "    for j in range(top_idx, bottom_idx + 1):\n",
    "        lon = centroid_x_coords[i]\n",
    "        lat = centroid_y_coords[j]\n",
    "        print(lon,lat)\n",
    "        url = 'https://maps.googleapis.com/maps/api/staticmap?center=' + str(lat) + ',' + \\\n",
    "               str(lon) + '&zoom=16&size=400x400&maptype=satellite&key=' + key\n",
    "        lightness = bands_data[j, i, 0]\n",
    "        file_path = 'google_image/' + str(lightness) + '/'\n",
    "        if not os.path.isdir(file_path):\n",
    "            os.makedirs(file_path)\n",
    "        file_name = str(i) + '_' + str(j) +'.jpg'\n",
    "        #save_img(url, file_path, file_name)\n",
    "        print(file_path, file_name)\n",
    "        if m % 100 == 0:\n",
    "            print(m)\n",
    "        m += 1\n"
   ]
  }
 ],
 "metadata": {
  "kernelspec": {
   "display_name": "Python 3",
   "language": "python",
   "name": "python3"
  },
  "language_info": {
   "codemirror_mode": {
    "name": "ipython",
    "version": 3
   },
   "file_extension": ".py",
   "mimetype": "text/x-python",
   "name": "python",
   "nbconvert_exporter": "python",
   "pygments_lexer": "ipython3",
   "version": "3.7.4"
  }
 },
 "nbformat": 4,
 "nbformat_minor": 2
}
